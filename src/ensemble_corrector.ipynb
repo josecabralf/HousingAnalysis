{
 "cells": [
  {
   "cell_type": "markdown",
   "metadata": {},
   "source": [
    "Imports"
   ]
  },
  {
   "cell_type": "code",
   "execution_count": 1,
   "metadata": {},
   "outputs": [],
   "source": [
    "import joblib\n",
    "import numpy as np\n",
    "import pandas as pd\n",
    "from config import *\n",
    "import seaborn as sns\n",
    "import matplotlib.pyplot as plt\n",
    "\n",
    "from sklearn.preprocessing import StandardScaler\n",
    "from sklearn.model_selection import learning_curve\n",
    "from sklearn.model_selection import train_test_split\n",
    "from sklearn.metrics import r2_score, mean_squared_error\n",
    "from sklearn.ensemble import RandomForestRegressor, VotingRegressor, AdaBoostRegressor\n",
    "from sklearn.tree import DecisionTreeRegressor"
   ]
  },
  {
   "cell_type": "markdown",
   "metadata": {},
   "source": [
    "Preparacion del conjunto de datos"
   ]
  },
  {
   "cell_type": "code",
   "execution_count": 2,
   "metadata": {},
   "outputs": [],
   "source": [
    "data = pd.read_csv(formated_train)\n",
    "\n",
    "features = ['terrenoEdificado', 'coordX', 'coordY', 'barrioID', 'ano', 'mes', 'dia']\n",
    "data_for_clustering = data[features]\n",
    "\n",
    "scaler_kmeans = StandardScaler()\n",
    "scaled_data = scaler_kmeans.fit_transform(data_for_clustering)\n",
    "\n",
    "kmeans = joblib.load(kmeans_model)\n",
    "data['clusterKM'] = kmeans.predict(scaled_data)"
   ]
  },
  {
   "cell_type": "markdown",
   "metadata": {},
   "source": [
    "Modelo ensamblado inicial"
   ]
  },
  {
   "cell_type": "code",
   "execution_count": 5,
   "metadata": {},
   "outputs": [
    {
     "name": "stdout",
     "output_type": "stream",
     "text": [
      "Ensamble R2: 0.662764099918681\n",
      "Ensamble RMSE: 52342.48836858413\n"
     ]
    }
   ],
   "source": [
    "ensamble = joblib.load(ensamble_precio_model)\n",
    "\n",
    "features = ['terrenoEdificado', 'comisariaCercana', 'transporteCercano', \n",
    "                'saludCercana', 'coordX', 'coordY', 'clusterKM', 'barrioID', \n",
    "                'ano', 'mes', 'dia']\n",
    "data_for_train = data[features]\n",
    "target_column = 'precioUSD'\n",
    "target = data[target_column]\n",
    "\n",
    "scaler_ensamble = StandardScaler()\n",
    "scaled_data = scaler_ensamble.fit_transform(data_for_train)\n",
    "\n",
    "X_train, X_test, y_train, y_test = train_test_split(data_for_train, target, train_size=0.99, random_state=33)\n",
    "\n",
    "X_test_scaled = scaler_ensamble.transform(X_test)\n",
    "all_data_predictions = ensamble.predict(X_test_scaled)\n",
    "\n",
    "ensemble_r2 = r2_score(y_test, all_data_predictions)\n",
    "ensemble_rmse = np.sqrt(mean_squared_error(y_test, all_data_predictions))\n",
    "\n",
    "print(f'Ensamble R2: {ensemble_r2}')\n",
    "print(f'Ensamble RMSE: {ensemble_rmse}')"
   ]
  },
  {
   "cell_type": "markdown",
   "metadata": {},
   "source": [
    "Confección del modelo de correccion"
   ]
  },
  {
   "cell_type": "code",
   "execution_count": 6,
   "metadata": {},
   "outputs": [
    {
     "name": "stdout",
     "output_type": "stream",
     "text": [
      "R^2 para el modelo ensamblado corregido con residuos de boosting: 0.9823391587449601\n",
      "RMSE del modelo ensamblado corregido con residuos de boosting: 11978.244075523457\n"
     ]
    },
    {
     "name": "stderr",
     "output_type": "stream",
     "text": [
      "c:\\Users\\benja\\AppData\\Local\\Programs\\Python\\Python310\\lib\\site-packages\\sklearn\\ensemble\\_base.py:156: FutureWarning: `base_estimator` was renamed to `estimator` in version 1.2 and will be removed in 1.4.\n",
      "  warnings.warn(\n"
     ]
    }
   ],
   "source": [
    "residuals = y_test - all_data_predictions\n",
    "\n",
    "residual_boosting_model = AdaBoostRegressor(base_estimator=DecisionTreeRegressor(max_depth=5, criterion='absolute_error'), n_estimators=50, random_state=42)\n",
    "residual_boosting_model.fit(X_test, residuals)\n",
    "\n",
    "residual_pred_ada = residual_boosting_model.predict(X_test)\n",
    "final_predictions = all_data_predictions + residual_pred_ada\n",
    "\n",
    "r2 = r2_score(y_test, final_predictions)\n",
    "rmse = np.sqrt(mean_squared_error(y_test, final_predictions))\n",
    "\n",
    "print(f\"R^2 para el modelo ensamblado corregido con residuos de boosting: {r2}\")\n",
    "print(f\"RMSE del modelo ensamblado corregido con residuos de boosting: {rmse}\")"
   ]
  },
  {
   "cell_type": "markdown",
   "metadata": {},
   "source": [
    "Predicciones"
   ]
  },
  {
   "cell_type": "code",
   "execution_count": 7,
   "metadata": {},
   "outputs": [],
   "source": [
    "# Choose random sample of 100 data points\n",
    "random_sample = np.random.choice(data.index, size=100, replace=False)"
   ]
  },
  {
   "cell_type": "code",
   "execution_count": 58,
   "metadata": {},
   "outputs": [],
   "source": [
    "# Predecir el precio de 100 casas con fecha de actualizacion 2023-01-01\n",
    "samples = data.iloc[random_sample].copy()\n",
    "samples.drop(columns=[\"clusterKM\"], inplace=True)\n",
    "\n",
    "samples[\"fechaReal\"] = samples.apply(lambda x: f\"{x['ano']}-{x['mes']}-{x['dia']}\", axis=1)"
   ]
  },
  {
   "cell_type": "markdown",
   "metadata": {},
   "source": [
    "Prediccion 1/12"
   ]
  },
  {
   "cell_type": "code",
   "execution_count": 59,
   "metadata": {},
   "outputs": [],
   "source": [
    "features = ['terrenoEdificado', 'coordX', 'coordY', 'barrioID', 'ano', 'mes', 'dia']\n",
    "data_for_clustering = samples[features]\n",
    "data_for_clustering.loc[:, \"mes\"] = 12\n",
    "data_for_clustering.loc[:, \"dia\"] = 1\n",
    "scaled_data = scaler_kmeans.fit_transform(data_for_clustering)\n",
    "\n",
    "samples['clusterKM'] = kmeans.predict(scaled_data)\n",
    "\n",
    "features = ['terrenoEdificado', 'comisariaCercana', 'transporteCercano', \n",
    "                'saludCercana', 'coordX', 'coordY', 'clusterKM', 'barrioID', \n",
    "                'ano', 'mes', 'dia']\n",
    "\n",
    "samples_features = samples[features]\n",
    "samples_features.loc[:, \"mes\"] = 12\n",
    "samples_features.loc[:, \"dia\"] = 1\n",
    "\n",
    "scaled_data = scaler_ensamble.fit_transform(samples_features)\n",
    "\n",
    "predictions = ensamble.predict(scaled_data)\n",
    "residuals = residual_boosting_model.predict(samples_features)\n",
    "\n",
    "final_predictions = predictions + residuals\n",
    "\n",
    "samples.loc[:, \"prediccion_1-12\"] = predictions\n",
    "samples.loc[:, \"prediccion_corregida_1-12\"] = final_predictions"
   ]
  },
  {
   "cell_type": "markdown",
   "metadata": {},
   "source": [
    "Prediccion 15/12"
   ]
  },
  {
   "cell_type": "code",
   "execution_count": 60,
   "metadata": {},
   "outputs": [],
   "source": [
    "features = ['terrenoEdificado', 'coordX', 'coordY', 'barrioID', 'ano', 'mes', 'dia']\n",
    "data_for_clustering = samples[features]\n",
    "data_for_clustering.loc[:, \"mes\"] = 12\n",
    "data_for_clustering.loc[:, \"dia\"] = 15\n",
    "scaled_data = scaler_kmeans.fit_transform(data_for_clustering)\n",
    "\n",
    "samples['clusterKM'] = kmeans.predict(scaled_data)\n",
    "\n",
    "features = ['terrenoEdificado', 'comisariaCercana', 'transporteCercano', \n",
    "                'saludCercana', 'coordX', 'coordY', 'clusterKM', 'barrioID', \n",
    "                'ano', 'mes', 'dia']\n",
    "\n",
    "samples_features = samples[features]\n",
    "samples_features.loc[:, \"mes\"] = 12\n",
    "samples_features.loc[:, \"dia\"] = 15\n",
    "\n",
    "scaled_data = scaler_ensamble.fit_transform(samples_features)\n",
    "\n",
    "predictions = ensamble.predict(scaled_data)\n",
    "residuals = residual_boosting_model.predict(samples_features)\n",
    "\n",
    "final_predictions = predictions + residuals\n",
    "\n",
    "samples.loc[:, \"prediccion_15-12\"] = predictions\n",
    "samples.loc[:, \"prediccion_corregida_15-12\"] = final_predictions"
   ]
  },
  {
   "cell_type": "code",
   "execution_count": 61,
   "metadata": {},
   "outputs": [
    {
     "data": {
      "text/plain": [
       "Index(['precioUSD', 'terrenoTotal', 'terrenoEdificado', 'barrio', 'coordX',\n",
       "       'coordY', 'vendedor', 'comisariaCercana', 'transporteCercano',\n",
       "       'saludCercana', 'distanciaCentro', 'barrioID', 'ano', 'mes', 'dia',\n",
       "       'fechaReal', 'clusterKM', 'prediccion_1-12',\n",
       "       'prediccion_corregida_1-12', 'prediccion_15-12',\n",
       "       'prediccion_corregida_15-12'],\n",
       "      dtype='object')"
      ]
     },
     "execution_count": 61,
     "metadata": {},
     "output_type": "execute_result"
    }
   ],
   "source": [
    "samples.columns"
   ]
  },
  {
   "cell_type": "code",
   "execution_count": 62,
   "metadata": {},
   "outputs": [],
   "source": [
    "samples.drop(columns=[\"clusterKM\", 'terrenoTotal', 'ano', 'mes', 'dia'], inplace=True)"
   ]
  },
  {
   "cell_type": "code",
   "execution_count": 63,
   "metadata": {},
   "outputs": [
    {
     "data": {
      "image/png": "[encoded data removed]",
      "text/plain": [
       "<Figure size 1600x600 with 2 Axes>"
      ]
     },
     "metadata": {},
     "output_type": "display_data"
    },
    {
     "name": "stdout",
     "output_type": "stream",
     "text": [
      "R2 y RMSE de cada prediccion\n",
      "Prediccion 1-12\n",
      "R2: 0.7913524169351447\n",
      "RMSE: 43956.109551535286\n",
      "Prediccion corregida 1-12\n",
      "R2: 0.775426046049495\n",
      "RMSE: 45602.878924453704\n"
     ]
    }
   ],
   "source": [
    "# Plot residuals\n",
    "fig, ax = plt.subplots(1, 2, figsize=(16, 6))\n",
    "sns.scatterplot(x=samples[\"precioUSD\"], y=samples[\"prediccion_1-12\"], ax=ax[0])\n",
    "sns.scatterplot(x=samples[\"precioUSD\"], y=samples[\"prediccion_corregida_1-12\"], ax=ax[1])\n",
    "ax[0].set_title(\"Residuos del modelo ensamblado\")\n",
    "ax[1].set_title(\"Residuos del modelo ensamblado corregido con boosting\")\n",
    "ax[0].set_ylabel(\"Residuos\")\n",
    "ax[1].set_ylabel(\"Residuos\")\n",
    "ax[0].set_xlabel(\"Precio\")\n",
    "ax[1].set_xlabel(\"Precio\")\n",
    "plt.show()\n",
    "\n",
    "# print r2 and rmse de cada prediccion\n",
    "print(\"R2 y RMSE de cada prediccion\")\n",
    "print(\"Prediccion 1-12\")\n",
    "print(f\"R2: {r2_score(samples['precioUSD'], samples['prediccion_1-12'])}\")\n",
    "print(f\"RMSE: {np.sqrt(mean_squared_error(samples['precioUSD'], samples['prediccion_1-12']))}\")\n",
    "\n",
    "print(\"Prediccion corregida 1-12\")\n",
    "print(f\"R2: {r2_score(samples['precioUSD'], samples['prediccion_corregida_1-12'])}\")\n",
    "print(f\"RMSE: {np.sqrt(mean_squared_error(samples['precioUSD'], samples['prediccion_corregida_1-12']))}\")\n"
   ]
  },
  {
   "cell_type": "code",
   "execution_count": 64,
   "metadata": {},
   "outputs": [
    {
     "name": "stdout",
     "output_type": "stream",
     "text": [
      "R2 del modelo lineal: 0.8195125868391684\n",
      "RMSE del modelo lineal: 40882.366588062534\n"
     ]
    }
   ],
   "source": [
    "# linear regression correction\n",
    "from sklearn.linear_model import LinearRegression\n",
    "\n",
    "lr = LinearRegression()\n",
    "lr.fit(samples[[\"prediccion_1-12\"]], samples[\"precioUSD\"])\n",
    "lr_pred = lr.predict(samples[[\"prediccion_1-12\"]])\n",
    "lr_r2 = r2_score(samples[\"precioUSD\"], lr_pred)\n",
    "lr_rmse = np.sqrt(mean_squared_error(samples[\"precioUSD\"], lr_pred))\n",
    "\n",
    "print(f\"R2 del modelo lineal: {lr_r2}\")\n",
    "print(f\"RMSE del modelo lineal: {lr_rmse}\")\n",
    "\n",
    "samples.loc[:, \"prediccion_corregida_lineal_1-12\"] = lr_pred"
   ]
  },
  {
   "cell_type": "code",
   "execution_count": 65,
   "metadata": {},
   "outputs": [
    {
     "name": "stdout",
     "output_type": "stream",
     "text": [
      "R2 del modelo lineal: 0.8195125868391684\n",
      "RMSE del modelo lineal: 40882.366588062534\n"
     ]
    }
   ],
   "source": [
    "# linear regression correction\n",
    "from sklearn.linear_model import LinearRegression\n",
    "\n",
    "lr = LinearRegression()\n",
    "lr.fit(samples[[\"prediccion_15-12\"]], samples[\"precioUSD\"])\n",
    "lr_pred = lr.predict(samples[[\"prediccion_15-12\"]])\n",
    "lr_r2 = r2_score(samples[\"precioUSD\"], lr_pred)\n",
    "lr_rmse = np.sqrt(mean_squared_error(samples[\"precioUSD\"], lr_pred))\n",
    "\n",
    "print(f\"R2 del modelo lineal: {lr_r2}\")\n",
    "print(f\"RMSE del modelo lineal: {lr_rmse}\")\n",
    "\n",
    "samples.loc[:, \"prediccion_corregida_lineal_15-12\"] = lr_pred\n"
   ]
  },
  {
   "cell_type": "code",
   "execution_count": 67,
   "metadata": {},
   "outputs": [],
   "source": [
    "samples.to_csv(\"preds.csv\")"
   ]
  }
 ],
 "metadata": {
  "kernelspec": {
   "display_name": "Python 3",
   "language": "python",
   "name": "python3"
  },
  "language_info": {
   "codemirror_mode": {
    "name": "ipython",
    "version": 3
   },
   "file_extension": ".py",
   "mimetype": "text/x-python",
   "name": "python",
   "nbconvert_exporter": "python",
   "pygments_lexer": "ipython3",
   "version": "3.10.4"
  }
 },
 "nbformat": 4,
 "nbformat_minor": 2
}
