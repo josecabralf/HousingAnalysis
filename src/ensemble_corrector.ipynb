{
 "cells": [
  {
   "cell_type": "markdown",
   "metadata": {},
   "source": [
    "Imports"
   ]
  },
  {
   "cell_type": "code",
   "execution_count": 1,
   "metadata": {},
   "outputs": [],
   "source": [
    "import joblib\n",
    "import numpy as np\n",
    "import pandas as pd\n",
    "from config import *\n",
    "import seaborn as sns\n",
    "import matplotlib.pyplot as plt\n",
    "\n",
    "from sklearn.preprocessing import StandardScaler\n",
    "from sklearn.model_selection import learning_curve\n",
    "from sklearn.model_selection import train_test_split\n",
    "from sklearn.metrics import r2_score, mean_squared_error\n",
    "from sklearn.ensemble import RandomForestRegressor, VotingRegressor, AdaBoostRegressor\n",
    "from sklearn.tree import DecisionTreeRegressor"
   ]
  },
  {
   "cell_type": "markdown",
   "metadata": {},
   "source": [
    "Preparacion del conjunto de datos"
   ]
  },
  {
   "cell_type": "code",
   "execution_count": 3,
   "metadata": {},
   "outputs": [],
   "source": [
    "data = pd.read_csv(formated_train, sep=';')\n",
    "\n",
    "# convertir fecha a datetime y luego a int\n",
    "data['fechaUltimaActualizacion'] = pd.to_datetime(data['fechaUltimaActualizacion'])\n",
    "data['fechaUltimaActualizacion'] = data['fechaUltimaActualizacion'].astype('int64')\n",
    "\n",
    "features = ['terrenoEdificado', 'coordX', 'coordY', 'barrio', 'fechaUltimaActualizacion']\n",
    "data_for_clustering = data[features]\n",
    "\n",
    "scaler_kmeans = StandardScaler()\n",
    "scaled_data = scaler_kmeans.fit_transform(data_for_clustering)\n",
    "\n",
    "kmeans = joblib.load(kmeans_model)\n",
    "data['clusterKM'] = kmeans.predict(scaled_data)"
   ]
  },
  {
   "cell_type": "markdown",
   "metadata": {},
   "source": [
    "Modelo ensamblado inicial"
   ]
  },
  {
   "cell_type": "code",
   "execution_count": 5,
   "metadata": {},
   "outputs": [
    {
     "name": "stdout",
     "output_type": "stream",
     "text": [
      "Ensamble R2: 0.8562784673097436\n",
      "Ensamble RMSE: 31030.90300354034\n"
     ]
    }
   ],
   "source": [
    "ensamble = joblib.load(ensamble_precio_model)\n",
    "\n",
    "features = ['terrenoEdificado', 'comisariaCercana', 'transporteCercano', \n",
    "            'saludCercana', 'coordX', 'coordY', 'clusterKM', 'barrio', 'fechaUltimaActualizacion']\n",
    "data_for_train = data[features]\n",
    "target_column = 'precioUSD'\n",
    "target = data[target_column]\n",
    "\n",
    "scaler_ensamble = StandardScaler()\n",
    "scaled_data = scaler_ensamble.fit_transform(data_for_train)\n",
    "\n",
    "X_train, X_test, y_train, y_test = train_test_split(data_for_train, target, train_size=0.99, random_state=33)\n",
    "\n",
    "X_test_scaled = scaler_ensamble.transform(X_test)\n",
    "all_data_predictions = ensamble.predict(X_test_scaled)\n",
    "\n",
    "ensemble_r2 = r2_score(y_test, all_data_predictions)\n",
    "ensemble_rmse = np.sqrt(mean_squared_error(y_test, all_data_predictions))\n",
    "\n",
    "print(f'Ensamble R2: {ensemble_r2}')\n",
    "print(f'Ensamble RMSE: {ensemble_rmse}')"
   ]
  },
  {
   "cell_type": "markdown",
   "metadata": {},
   "source": [
    "Confección del modelo de correccion"
   ]
  },
  {
   "cell_type": "code",
   "execution_count": 50,
   "metadata": {},
   "outputs": [
    {
     "name": "stdout",
     "output_type": "stream",
     "text": [
      "R^2 para el modelo ensamblado corregido con residuos de boosting: 0.9947212600510387\n",
      "RMSE del modelo ensamblado corregido con residuos de boosting: 5947.009435498988\n"
     ]
    },
    {
     "name": "stderr",
     "output_type": "stream",
     "text": [
      "c:\\Users\\benja\\AppData\\Local\\Programs\\Python\\Python310\\lib\\site-packages\\sklearn\\ensemble\\_base.py:156: FutureWarning: `base_estimator` was renamed to `estimator` in version 1.2 and will be removed in 1.4.\n",
      "  warnings.warn(\n"
     ]
    }
   ],
   "source": [
    "residuals = y_test - all_data_predictions\n",
    "\n",
    "residual_boosting_model = AdaBoostRegressor(base_estimator=DecisionTreeRegressor(max_depth=5, criterion='friedman_mse'), n_estimators=50, random_state=42)\n",
    "residual_boosting_model.fit(X_test_scaled, residuals)\n",
    "\n",
    "residual_pred_ada = residual_boosting_model.predict(X_test_scaled)\n",
    "final_predictions = all_data_predictions + residual_pred_ada\n",
    "\n",
    "r2 = r2_score(y_test, final_predictions)\n",
    "rmse = np.sqrt(mean_squared_error(y_test, final_predictions))\n",
    "\n",
    "print(f\"R^2 para el modelo ensamblado corregido con residuos de boosting: {r2}\")\n",
    "print(f\"RMSE del modelo ensamblado corregido con residuos de boosting: {rmse}\")"
   ]
  }
 ],
 "metadata": {
  "kernelspec": {
   "display_name": "Python 3",
   "language": "python",
   "name": "python3"
  },
  "language_info": {
   "codemirror_mode": {
    "name": "ipython",
    "version": 3
   },
   "file_extension": ".py",
   "mimetype": "text/x-python",
   "name": "python",
   "nbconvert_exporter": "python",
   "pygments_lexer": "ipython3",
   "version": "3.10.4"
  }
 },
 "nbformat": 4,
 "nbformat_minor": 2
}
