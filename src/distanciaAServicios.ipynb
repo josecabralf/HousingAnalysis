{
 "cells": [
  {
   "cell_type": "code",
   "execution_count": 1,
   "metadata": {},
   "outputs": [],
   "source": [
    "from config import *\n",
    "import geopandas as gpd\n",
    "import pandas as pd\n",
    "\n",
    "barrios = gpd.read_file(map_barrios)\n",
    "comisarias = pd.read_csv(map_comisarias)\n",
    "centros_salud = gpd.read_file(map_ctros_salud)\n",
    "transporte = pd.read_csv(map_transporte_urb)\n",
    "\n",
    "comisarias = gpd.GeoDataFrame(comisarias, geometry=gpd.points_from_xy(comisarias.Longitud, comisarias.Latitud))\n",
    "transporte = gpd.GeoDataFrame(transporte, geometry=gpd.points_from_xy(transporte.longitud, transporte.latitud))"
   ]
  },
  {
   "cell_type": "code",
   "execution_count": 2,
   "metadata": {},
   "outputs": [],
   "source": [
    "import pandas as pd\n",
    "from config import *\n",
    "import os\n",
    "\n",
    "train = pd.DataFrame()\n",
    "for file in os.listdir(path_unify):\n",
    "  if file.__contains__(\"-09-\"): train = train._append(pd.read_excel(path_unify + file))\n",
    "  \n",
    "train = train.loc[train[\"coordX\"].notna()]"
   ]
  },
  {
   "cell_type": "code",
   "execution_count": 5,
   "metadata": {},
   "outputs": [],
   "source": [
    "from math import radians, sin, cos, sqrt, atan2\n",
    "\n",
    "def calcular_distancia(coord1, coord2):\n",
    "    radio_tierra = 6371.0\n",
    "\n",
    "    latitud1, longitud1 = radians(coord1[0]), radians(coord1[1])\n",
    "    latitud2, longitud2 = radians(coord2[0]), radians(coord2[1])\n",
    "\n",
    "    dlat = latitud2 - latitud1\n",
    "    dlon = longitud2 - longitud1\n",
    "\n",
    "    a = sin(dlat / 2)**2 + cos(latitud1) * cos(latitud2) * sin(dlon / 2)**2\n",
    "    c = 2 * atan2(sqrt(a), sqrt(1 - a))\n",
    "\n",
    "    distancia = radio_tierra * c\n",
    "\n",
    "    return distancia\n",
    "\n",
    "def calcular_distancia_minima(coord, coords):\n",
    "    distancias = []\n",
    "    for c in coords:\n",
    "        distancias.append(calcular_distancia(coord, c))\n",
    "    return min(distancias)\n",
    "\n",
    "def calcular_distancia_minima_comisarias(coord):\n",
    "    return calcular_distancia_minima(coord, comisarias[[\"Latitud\", \"Longitud\"]].values)\n",
    "\n",
    "def calcular_distancia_minima_tu(coord):\n",
    "    return calcular_distancia_minima(coord, transporte[[\"latitud\", \"longitud\"]].values)\n",
    "\n",
    "def calcular_distancia_minima_cs(coord):\n",
    "    return calcular_distancia_minima(coord, centros_salud[[\"Latitud\", \"Longitud\"]].values)\n",
    "\n",
    "def calcular_distancia_centro(coord):\n",
    "    return calcular_distancia(coord, (-31.4201, -64.1888))"
   ]
  },
  {
   "cell_type": "code",
   "execution_count": 6,
   "metadata": {},
   "outputs": [],
   "source": [
    "df = train.copy()\n",
    "\n",
    "df[\"comisariaCercana\"] = df[[\"coordX\", \"coordY\"]].apply(calcular_distancia_minima_comisarias, axis=1)\n",
    "df[\"transporteCercano\"] = df[[\"coordX\", \"coordY\"]].apply(calcular_distancia_minima_tu, axis=1)\n",
    "df[\"saludCercana\"] = df[[\"coordX\", \"coordY\"]].apply(calcular_distancia_minima_cs, axis=1)\n",
    "df[\"distanciaCentro\"] = df[[\"coordX\", \"coordY\"]].apply(calcular_distancia_centro, axis=1)"
   ]
  },
  {
   "cell_type": "code",
   "execution_count": null,
   "metadata": {},
   "outputs": [],
   "source": [
    "df.to_csv(\"../Data/test.csv\", index=False)"
   ]
  }
 ],
 "metadata": {
  "kernelspec": {
   "display_name": "Python 3",
   "language": "python",
   "name": "python3"
  },
  "language_info": {
   "codemirror_mode": {
    "name": "ipython",
    "version": 3
   },
   "file_extension": ".py",
   "mimetype": "text/x-python",
   "name": "python",
   "nbconvert_exporter": "python",
   "pygments_lexer": "ipython3",
   "version": "3.10.4"
  }
 },
 "nbformat": 4,
 "nbformat_minor": 2
}
