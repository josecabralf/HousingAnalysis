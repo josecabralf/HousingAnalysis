{
 "cells": [
  {
   "cell_type": "code",
   "execution_count": 1,
   "metadata": {},
   "outputs": [
    {
     "name": "stderr",
     "output_type": "stream",
     "text": [
      "C:\\Users\\benja\\AppData\\Local\\Temp\\ipykernel_14680\\3599382349.py:5: DtypeWarning: Columns (13,15,16) have mixed types. Specify dtype option on import or set low_memory=False.\n",
      "  df = pd.read_csv(all)\n",
      "C:\\Users\\benja\\AppData\\Local\\Temp\\ipykernel_14680\\3599382349.py:7: FutureWarning: The `op` parameter is deprecated and will be removed in a future release. Please use the `predicate` parameter instead.\n",
      "  data = formatDF(df)\n"
     ]
    }
   ],
   "source": [
    "import pandas as pd\n",
    "from config import *\n",
    "from filtering import formatDF, discretizarDatos\n",
    "\n",
    "df = pd.read_csv(all)\n",
    "\n",
    "data = formatDF(df)\n",
    "data.loc[data[\"vendedor\"].isna(), \"vendedor\"] = data.loc[data[\"vendedor\"].isna(), \"tipoVendedor\"]\n",
    "data = discretizarDatos(data)\n",
    "\n",
    "# drop columns: activo, URL, file, tipoVendedor, ciudad\n",
    "data = data.drop(['activo', 'URL', 'file', 'tipoVendedor','ciudad'], axis=1)\n",
    "data = data.loc[data[\"tipoPropiedad\"] != 3]\n",
    "data['barrio'] = data['barrio'].astype('category').cat.codes"
   ]
  },
  {
   "cell_type": "code",
   "execution_count": 2,
   "metadata": {},
   "outputs": [],
   "source": [
    "import joblib\n",
    "from sklearn.preprocessing import StandardScaler\n",
    "\n",
    "features = ['terrenoEdificado', 'coordX', 'coordY', 'barrio']\n",
    "data_for_clustering = data[features]\n",
    "\n",
    "scaler_kmeans = StandardScaler()\n",
    "scaled_data = scaler_kmeans.fit_transform(data_for_clustering)\n",
    "\n",
    "kmeans = joblib.load(kmeans_model)\n",
    "data['clusterKM'] = kmeans.predict(scaled_data)"
   ]
  },
  {
   "cell_type": "code",
   "execution_count": 7,
   "metadata": {},
   "outputs": [],
   "source": [
    "import joblib\n",
    "from sklearn.model_selection import train_test_split\n",
    "\n",
    "ensamble = joblib.load(ensamble_precio_model)\n",
    "\n",
    "features = ['terrenoEdificado', 'comisariaCercana', 'transporteCercano', \n",
    "            'saludCercana', 'coordX', 'coordY', 'clusterKM', 'barrio']\n",
    "data_for_train = data[features]\n",
    "target_column = 'precioUSD'\n",
    "target = data[target_column]\n",
    "\n",
    "scaler_ensamble = StandardScaler()\n",
    "scaled_data = scaler_ensamble.fit_transform(data_for_train)\n",
    "\n",
    "X_train, X_test, y_train, y_test = train_test_split(data_for_train, target, train_size=0.99, random_state=33)"
   ]
  },
  {
   "cell_type": "code",
   "execution_count": 8,
   "metadata": {},
   "outputs": [],
   "source": [
    "from sklearn.metrics import r2_score, mean_squared_error\n",
    "import numpy as np\n",
    "\n",
    "X_test_scaled = scaler_ensamble.transform(X_test)\n",
    "all_data_predictions = ensamble.predict(X_test_scaled)\n",
    "\n",
    "ensemble_r2 = r2_score(y_test, all_data_predictions)\n",
    "ensemble_rmse = np.sqrt(mean_squared_error(y_test, all_data_predictions))"
   ]
  }
 ],
 "metadata": {
  "kernelspec": {
   "display_name": "Python 3",
   "language": "python",
   "name": "python3"
  },
  "language_info": {
   "codemirror_mode": {
    "name": "ipython",
    "version": 3
   },
   "file_extension": ".py",
   "mimetype": "text/x-python",
   "name": "python",
   "nbconvert_exporter": "python",
   "pygments_lexer": "ipython3",
   "version": "3.10.4"
  }
 },
 "nbformat": 4,
 "nbformat_minor": 2
}
