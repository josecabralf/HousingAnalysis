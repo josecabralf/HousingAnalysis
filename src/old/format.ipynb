{
 "cells": [
  {
   "cell_type": "code",
   "execution_count": 2,
   "metadata": {},
   "outputs": [
    {
     "name": "stderr",
     "output_type": "stream",
     "text": [
      "C:\\Users\\benja\\AppData\\Local\\Temp\\ipykernel_27316\\1897492727.py:6: FutureWarning: The `op` parameter is deprecated and will be removed in a future release. Please use the `predicate` parameter instead.\n",
      "  data = formatDF(df)\n"
     ]
    }
   ],
   "source": [
    "import pandas as pd\n",
    "from filtering import formatDF, discretizarDatos\n",
    "\n",
    "df = pd.read_excel('../2023-12-01_df.xlsx')\n",
    "\n",
    "data = formatDF(df)\n",
    "data = discretizarDatos(data)\n",
    "\n",
    "data = data.drop(['URL','ciudad'], axis=1)\n",
    "data = data.loc[data[\"tipoPropiedad\"] != 3]\n",
    "\n",
    "data['fechaUltimaActualizacion'] = pd.to_datetime(data['fechaUltimaActualizacion'])\n",
    "data[\"ano\"] = data[\"fechaUltimaActualizacion\"].dt.year\n",
    "data[\"mes\"] = data[\"fechaUltimaActualizacion\"].dt.month\n",
    "data[\"dia\"] = data[\"fechaUltimaActualizacion\"].dt.day\n",
    "\n",
    "data.to_csv('../2023-12-01_df.csv', index=False, sep = \";\")"
   ]
  }
 ],
 "metadata": {
  "kernelspec": {
   "display_name": "Python 3",
   "language": "python",
   "name": "python3"
  },
  "language_info": {
   "codemirror_mode": {
    "name": "ipython",
    "version": 3
   },
   "file_extension": ".py",
   "mimetype": "text/x-python",
   "name": "python",
   "nbconvert_exporter": "python",
   "pygments_lexer": "ipython3",
   "version": "3.10.4"
  }
 },
 "nbformat": 4,
 "nbformat_minor": 2
}
