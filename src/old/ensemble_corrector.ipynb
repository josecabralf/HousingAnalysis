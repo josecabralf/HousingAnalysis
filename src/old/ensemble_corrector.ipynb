{
 "cells": [
  {
   "cell_type": "markdown",
   "metadata": {},
   "source": [
    "Imports"
   ]
  },
  {
   "cell_type": "code",
   "execution_count": 1,
   "metadata": {},
   "outputs": [],
   "source": [
    "import joblib\n",
    "import numpy as np\n",
    "import pandas as pd\n",
    "from config import *\n",
    "import seaborn as sns\n",
    "import matplotlib.pyplot as plt\n",
    "\n",
    "from sklearn.preprocessing import StandardScaler\n",
    "from sklearn.model_selection import learning_curve\n",
    "from sklearn.model_selection import train_test_split\n",
    "from sklearn.metrics import r2_score, mean_squared_error\n",
    "from sklearn.ensemble import RandomForestRegressor, VotingRegressor, AdaBoostRegressor\n",
    "from sklearn.tree import DecisionTreeRegressor"
   ]
  },
  {
   "cell_type": "markdown",
   "metadata": {},
   "source": [
    "Preparacion del conjunto de datos"
   ]
  },
  {
   "cell_type": "code",
   "execution_count": 27,
   "metadata": {},
   "outputs": [],
   "source": [
    "new_data = pd.read_csv('../2023-12-01_df.csv', sep = ';')\n",
    "\n",
    "features = ['terrenoEdificado', 'coordX', 'coordY', 'barrioID', 'ano', 'mes', 'dia']\n",
    "data_for_clustering = new_data[features]\n",
    "\n",
    "scaler_kmeans = StandardScaler()\n",
    "scaled_data = scaler_kmeans.fit_transform(data_for_clustering)\n",
    "\n",
    "kmeans = joblib.load(kmeans_model)\n",
    "new_data['clusterKM'] = kmeans.predict(scaled_data)"
   ]
  },
  {
   "cell_type": "markdown",
   "metadata": {},
   "source": [
    "Modelo ensamblado inicial"
   ]
  },
  {
   "cell_type": "code",
   "execution_count": 28,
   "metadata": {},
   "outputs": [
    {
     "data": {
      "text/html": [
       "<style>#sk-container-id-4 {color: black;}#sk-container-id-4 pre{padding: 0;}#sk-container-id-4 div.sk-toggleable {background-color: white;}#sk-container-id-4 label.sk-toggleable__label {cursor: pointer;display: block;width: 100%;margin-bottom: 0;padding: 0.3em;box-sizing: border-box;text-align: center;}#sk-container-id-4 label.sk-toggleable__label-arrow:before {content: \"▸\";float: left;margin-right: 0.25em;color: #696969;}#sk-container-id-4 label.sk-toggleable__label-arrow:hover:before {color: black;}#sk-container-id-4 div.sk-estimator:hover label.sk-toggleable__label-arrow:before {color: black;}#sk-container-id-4 div.sk-toggleable__content {max-height: 0;max-width: 0;overflow: hidden;text-align: left;background-color: #f0f8ff;}#sk-container-id-4 div.sk-toggleable__content pre {margin: 0.2em;color: black;border-radius: 0.25em;background-color: #f0f8ff;}#sk-container-id-4 input.sk-toggleable__control:checked~div.sk-toggleable__content {max-height: 200px;max-width: 100%;overflow: auto;}#sk-container-id-4 input.sk-toggleable__control:checked~label.sk-toggleable__label-arrow:before {content: \"▾\";}#sk-container-id-4 div.sk-estimator input.sk-toggleable__control:checked~label.sk-toggleable__label {background-color: #d4ebff;}#sk-container-id-4 div.sk-label input.sk-toggleable__control:checked~label.sk-toggleable__label {background-color: #d4ebff;}#sk-container-id-4 input.sk-hidden--visually {border: 0;clip: rect(1px 1px 1px 1px);clip: rect(1px, 1px, 1px, 1px);height: 1px;margin: -1px;overflow: hidden;padding: 0;position: absolute;width: 1px;}#sk-container-id-4 div.sk-estimator {font-family: monospace;background-color: #f0f8ff;border: 1px dotted black;border-radius: 0.25em;box-sizing: border-box;margin-bottom: 0.5em;}#sk-container-id-4 div.sk-estimator:hover {background-color: #d4ebff;}#sk-container-id-4 div.sk-parallel-item::after {content: \"\";width: 100%;border-bottom: 1px solid gray;flex-grow: 1;}#sk-container-id-4 div.sk-label:hover label.sk-toggleable__label {background-color: #d4ebff;}#sk-container-id-4 div.sk-serial::before {content: \"\";position: absolute;border-left: 1px solid gray;box-sizing: border-box;top: 0;bottom: 0;left: 50%;z-index: 0;}#sk-container-id-4 div.sk-serial {display: flex;flex-direction: column;align-items: center;background-color: white;padding-right: 0.2em;padding-left: 0.2em;position: relative;}#sk-container-id-4 div.sk-item {position: relative;z-index: 1;}#sk-container-id-4 div.sk-parallel {display: flex;align-items: stretch;justify-content: center;background-color: white;position: relative;}#sk-container-id-4 div.sk-item::before, #sk-container-id-4 div.sk-parallel-item::before {content: \"\";position: absolute;border-left: 1px solid gray;box-sizing: border-box;top: 0;bottom: 0;left: 50%;z-index: -1;}#sk-container-id-4 div.sk-parallel-item {display: flex;flex-direction: column;z-index: 1;position: relative;background-color: white;}#sk-container-id-4 div.sk-parallel-item:first-child::after {align-self: flex-end;width: 50%;}#sk-container-id-4 div.sk-parallel-item:last-child::after {align-self: flex-start;width: 50%;}#sk-container-id-4 div.sk-parallel-item:only-child::after {width: 0;}#sk-container-id-4 div.sk-dashed-wrapped {border: 1px dashed gray;margin: 0 0.4em 0.5em 0.4em;box-sizing: border-box;padding-bottom: 0.4em;background-color: white;}#sk-container-id-4 div.sk-label label {font-family: monospace;font-weight: bold;display: inline-block;line-height: 1.2em;}#sk-container-id-4 div.sk-label-container {text-align: center;}#sk-container-id-4 div.sk-container {/* jupyter's `normalize.less` sets `[hidden] { display: none; }` but bootstrap.min.css set `[hidden] { display: none !important; }` so we also need the `!important` here to be able to override the default hidden behavior on the sphinx rendered scikit-learn.org. See: https://github.com/scikit-learn/scikit-learn/issues/21755 */display: inline-block !important;position: relative;}#sk-container-id-4 div.sk-text-repr-fallback {display: none;}</style><div id=\"sk-container-id-4\" class=\"sk-top-container\"><div class=\"sk-text-repr-fallback\"><pre>VotingRegressor(estimators=[(&#x27;knn10&#x27;,\n",
       "                             KNeighborsRegressor(algorithm=&#x27;ball_tree&#x27;,\n",
       "                                                 n_neighbors=10,\n",
       "                                                 weights=&#x27;distance&#x27;)),\n",
       "                            (&#x27;knn8&#x27;,\n",
       "                             KNeighborsRegressor(algorithm=&#x27;ball_tree&#x27;,\n",
       "                                                 n_neighbors=8,\n",
       "                                                 weights=&#x27;distance&#x27;)),\n",
       "                            (&#x27;knn6&#x27;,\n",
       "                             KNeighborsRegressor(algorithm=&#x27;ball_tree&#x27;,\n",
       "                                                 n_neighbors=6,\n",
       "                                                 weights=&#x27;distance&#x27;)),\n",
       "                            (&#x27;knn9&#x27;,\n",
       "                             KNeighborsRegressor(algorithm=&#x27;ball_tree&#x27;,\n",
       "                                                 n_neighbors=9,\n",
       "                                                 weights=&#x27;distance&#x27;)),\n",
       "                            (&#x27;RF&#x27;,\n",
       "                             RandomForestRegressor(max_depth=21,\n",
       "                                                   n_estimators=800,\n",
       "                                                   random_state=42)),\n",
       "                            (&#x27;XGBoost&#x27;,\n",
       "                             GradientBoostingRegressor(learning_rate=0.05,\n",
       "                                                       max_depth=7,\n",
       "                                                       n_estimators=200,\n",
       "                                                       random_state=42)),\n",
       "                            (&#x27;AdaBoost&#x27;,\n",
       "                             AdaBoostRegressor(estimator=DecisionTreeRegressor(max_depth=14),\n",
       "                                               n_estimators=200,\n",
       "                                               random_state=42))],\n",
       "                weights=[3, 3, 2, 2, 5, 5, 5])</pre><b>In a Jupyter environment, please rerun this cell to show the HTML representation or trust the notebook. <br />On GitHub, the HTML representation is unable to render, please try loading this page with nbviewer.org.</b></div><div class=\"sk-container\" hidden><div class=\"sk-item sk-dashed-wrapped\"><div class=\"sk-label-container\"><div class=\"sk-label sk-toggleable\"><input class=\"sk-toggleable__control sk-hidden--visually\" id=\"sk-estimator-id-28\" type=\"checkbox\" ><label for=\"sk-estimator-id-28\" class=\"sk-toggleable__label sk-toggleable__label-arrow\">VotingRegressor</label><div class=\"sk-toggleable__content\"><pre>VotingRegressor(estimators=[(&#x27;knn10&#x27;,\n",
       "                             KNeighborsRegressor(algorithm=&#x27;ball_tree&#x27;,\n",
       "                                                 n_neighbors=10,\n",
       "                                                 weights=&#x27;distance&#x27;)),\n",
       "                            (&#x27;knn8&#x27;,\n",
       "                             KNeighborsRegressor(algorithm=&#x27;ball_tree&#x27;,\n",
       "                                                 n_neighbors=8,\n",
       "                                                 weights=&#x27;distance&#x27;)),\n",
       "                            (&#x27;knn6&#x27;,\n",
       "                             KNeighborsRegressor(algorithm=&#x27;ball_tree&#x27;,\n",
       "                                                 n_neighbors=6,\n",
       "                                                 weights=&#x27;distance&#x27;)),\n",
       "                            (&#x27;knn9&#x27;,\n",
       "                             KNeighborsRegressor(algorithm=&#x27;ball_tree&#x27;,\n",
       "                                                 n_neighbors=9,\n",
       "                                                 weights=&#x27;distance&#x27;)),\n",
       "                            (&#x27;RF&#x27;,\n",
       "                             RandomForestRegressor(max_depth=21,\n",
       "                                                   n_estimators=800,\n",
       "                                                   random_state=42)),\n",
       "                            (&#x27;XGBoost&#x27;,\n",
       "                             GradientBoostingRegressor(learning_rate=0.05,\n",
       "                                                       max_depth=7,\n",
       "                                                       n_estimators=200,\n",
       "                                                       random_state=42)),\n",
       "                            (&#x27;AdaBoost&#x27;,\n",
       "                             AdaBoostRegressor(estimator=DecisionTreeRegressor(max_depth=14),\n",
       "                                               n_estimators=200,\n",
       "                                               random_state=42))],\n",
       "                weights=[3, 3, 2, 2, 5, 5, 5])</pre></div></div></div><div class=\"sk-parallel\"><div class=\"sk-parallel-item\"><div class=\"sk-item\"><div class=\"sk-label-container\"><div class=\"sk-label sk-toggleable\"><label>knn10</label></div></div><div class=\"sk-serial\"><div class=\"sk-item\"><div class=\"sk-estimator sk-toggleable\"><input class=\"sk-toggleable__control sk-hidden--visually\" id=\"sk-estimator-id-29\" type=\"checkbox\" ><label for=\"sk-estimator-id-29\" class=\"sk-toggleable__label sk-toggleable__label-arrow\">KNeighborsRegressor</label><div class=\"sk-toggleable__content\"><pre>KNeighborsRegressor(algorithm=&#x27;ball_tree&#x27;, n_neighbors=10, weights=&#x27;distance&#x27;)</pre></div></div></div></div></div></div><div class=\"sk-parallel-item\"><div class=\"sk-item\"><div class=\"sk-label-container\"><div class=\"sk-label sk-toggleable\"><label>knn8</label></div></div><div class=\"sk-serial\"><div class=\"sk-item\"><div class=\"sk-estimator sk-toggleable\"><input class=\"sk-toggleable__control sk-hidden--visually\" id=\"sk-estimator-id-30\" type=\"checkbox\" ><label for=\"sk-estimator-id-30\" class=\"sk-toggleable__label sk-toggleable__label-arrow\">KNeighborsRegressor</label><div class=\"sk-toggleable__content\"><pre>KNeighborsRegressor(algorithm=&#x27;ball_tree&#x27;, n_neighbors=8, weights=&#x27;distance&#x27;)</pre></div></div></div></div></div></div><div class=\"sk-parallel-item\"><div class=\"sk-item\"><div class=\"sk-label-container\"><div class=\"sk-label sk-toggleable\"><label>knn6</label></div></div><div class=\"sk-serial\"><div class=\"sk-item\"><div class=\"sk-estimator sk-toggleable\"><input class=\"sk-toggleable__control sk-hidden--visually\" id=\"sk-estimator-id-31\" type=\"checkbox\" ><label for=\"sk-estimator-id-31\" class=\"sk-toggleable__label sk-toggleable__label-arrow\">KNeighborsRegressor</label><div class=\"sk-toggleable__content\"><pre>KNeighborsRegressor(algorithm=&#x27;ball_tree&#x27;, n_neighbors=6, weights=&#x27;distance&#x27;)</pre></div></div></div></div></div></div><div class=\"sk-parallel-item\"><div class=\"sk-item\"><div class=\"sk-label-container\"><div class=\"sk-label sk-toggleable\"><label>knn9</label></div></div><div class=\"sk-serial\"><div class=\"sk-item\"><div class=\"sk-estimator sk-toggleable\"><input class=\"sk-toggleable__control sk-hidden--visually\" id=\"sk-estimator-id-32\" type=\"checkbox\" ><label for=\"sk-estimator-id-32\" class=\"sk-toggleable__label sk-toggleable__label-arrow\">KNeighborsRegressor</label><div class=\"sk-toggleable__content\"><pre>KNeighborsRegressor(algorithm=&#x27;ball_tree&#x27;, n_neighbors=9, weights=&#x27;distance&#x27;)</pre></div></div></div></div></div></div><div class=\"sk-parallel-item\"><div class=\"sk-item\"><div class=\"sk-label-container\"><div class=\"sk-label sk-toggleable\"><label>RF</label></div></div><div class=\"sk-serial\"><div class=\"sk-item\"><div class=\"sk-estimator sk-toggleable\"><input class=\"sk-toggleable__control sk-hidden--visually\" id=\"sk-estimator-id-33\" type=\"checkbox\" ><label for=\"sk-estimator-id-33\" class=\"sk-toggleable__label sk-toggleable__label-arrow\">RandomForestRegressor</label><div class=\"sk-toggleable__content\"><pre>RandomForestRegressor(max_depth=21, n_estimators=800, random_state=42)</pre></div></div></div></div></div></div><div class=\"sk-parallel-item\"><div class=\"sk-item\"><div class=\"sk-label-container\"><div class=\"sk-label sk-toggleable\"><label>XGBoost</label></div></div><div class=\"sk-serial\"><div class=\"sk-item\"><div class=\"sk-estimator sk-toggleable\"><input class=\"sk-toggleable__control sk-hidden--visually\" id=\"sk-estimator-id-34\" type=\"checkbox\" ><label for=\"sk-estimator-id-34\" class=\"sk-toggleable__label sk-toggleable__label-arrow\">GradientBoostingRegressor</label><div class=\"sk-toggleable__content\"><pre>GradientBoostingRegressor(learning_rate=0.05, max_depth=7, n_estimators=200,\n",
       "                          random_state=42)</pre></div></div></div></div></div></div><div class=\"sk-parallel-item\"><div class=\"sk-item\"><div class=\"sk-label-container\"><div class=\"sk-label sk-toggleable\"><label>AdaBoost</label></div></div><div class=\"sk-serial\"><div class=\"sk-item sk-dashed-wrapped\"><div class=\"sk-parallel\"><div class=\"sk-parallel-item\"><div class=\"sk-item\"><div class=\"sk-label-container\"><div class=\"sk-label sk-toggleable\"><input class=\"sk-toggleable__control sk-hidden--visually\" id=\"sk-estimator-id-35\" type=\"checkbox\" ><label for=\"sk-estimator-id-35\" class=\"sk-toggleable__label sk-toggleable__label-arrow\">estimator: DecisionTreeRegressor</label><div class=\"sk-toggleable__content\"><pre>DecisionTreeRegressor(max_depth=14)</pre></div></div></div><div class=\"sk-serial\"><div class=\"sk-item\"><div class=\"sk-estimator sk-toggleable\"><input class=\"sk-toggleable__control sk-hidden--visually\" id=\"sk-estimator-id-36\" type=\"checkbox\" ><label for=\"sk-estimator-id-36\" class=\"sk-toggleable__label sk-toggleable__label-arrow\">DecisionTreeRegressor</label><div class=\"sk-toggleable__content\"><pre>DecisionTreeRegressor(max_depth=14)</pre></div></div></div></div></div></div></div></div></div></div></div></div></div></div></div>"
      ],
      "text/plain": [
       "VotingRegressor(estimators=[('knn10',\n",
       "                             KNeighborsRegressor(algorithm='ball_tree',\n",
       "                                                 n_neighbors=10,\n",
       "                                                 weights='distance')),\n",
       "                            ('knn8',\n",
       "                             KNeighborsRegressor(algorithm='ball_tree',\n",
       "                                                 n_neighbors=8,\n",
       "                                                 weights='distance')),\n",
       "                            ('knn6',\n",
       "                             KNeighborsRegressor(algorithm='ball_tree',\n",
       "                                                 n_neighbors=6,\n",
       "                                                 weights='distance')),\n",
       "                            ('knn9',\n",
       "                             KNeighborsRegressor(algorithm='ball_tree',\n",
       "                                                 n_neighbors=9,\n",
       "                                                 weights='distance')),\n",
       "                            ('RF',\n",
       "                             RandomForestRegressor(max_depth=21,\n",
       "                                                   n_estimators=800,\n",
       "                                                   random_state=42)),\n",
       "                            ('XGBoost',\n",
       "                             GradientBoostingRegressor(learning_rate=0.05,\n",
       "                                                       max_depth=7,\n",
       "                                                       n_estimators=200,\n",
       "                                                       random_state=42)),\n",
       "                            ('AdaBoost',\n",
       "                             AdaBoostRegressor(estimator=DecisionTreeRegressor(max_depth=14),\n",
       "                                               n_estimators=200,\n",
       "                                               random_state=42))],\n",
       "                weights=[3, 3, 2, 2, 5, 5, 5])"
      ]
     },
     "execution_count": 28,
     "metadata": {},
     "output_type": "execute_result"
    }
   ],
   "source": [
    "ensamble = joblib.load(ensamble_precio_model)\n",
    "\n",
    "features = ['terrenoEdificado', 'comisariaCercana', 'transporteCercano', \n",
    "                'saludCercana', 'coordX', 'coordY', 'clusterKM', 'barrioID', \n",
    "                'ano', 'mes', 'dia']\n",
    "data_4_model = new_data[features]\n",
    "target_column = 'precioUSD'\n",
    "target = new_data[target_column]\n",
    "\n",
    "scaler_ensamble = StandardScaler()\n",
    "scaled_data = scaler_ensamble.fit_transform(data_4_model)\n",
    "\n",
    "X_train, X_test, y_train, y_test = train_test_split(scaled_data, target, train_size=0.5, random_state=33)\n",
    "\n",
    "ensamble.fit(X_train, y_train)"
   ]
  },
  {
   "cell_type": "code",
   "execution_count": 29,
   "metadata": {},
   "outputs": [
    {
     "name": "stdout",
     "output_type": "stream",
     "text": [
      "Ensamble R2: 0.7301203463247101\n",
      "Ensamble RMSE: 50760.588159191815\n",
      "Cantidad de datos: 1204\n"
     ]
    }
   ],
   "source": [
    "all_data_predictions = ensamble.predict(X_test)\n",
    "\n",
    "ensemble_r2 = r2_score(y_test, all_data_predictions)\n",
    "ensemble_rmse = np.sqrt(mean_squared_error(y_test, all_data_predictions))\n",
    "\n",
    "print(f'Ensamble R2: {ensemble_r2}')\n",
    "print(f'Ensamble RMSE: {ensemble_rmse}')\n",
    "print(f'Cantidad de datos: {len(y_test)}')"
   ]
  },
  {
   "cell_type": "markdown",
   "metadata": {},
   "source": [
    "Confección del modelo de correccion"
   ]
  },
  {
   "cell_type": "code",
   "execution_count": 52,
   "metadata": {},
   "outputs": [
    {
     "name": "stderr",
     "output_type": "stream",
     "text": [
      "c:\\Users\\benja\\AppData\\Local\\Programs\\Python\\Python310\\lib\\site-packages\\sklearn\\ensemble\\_base.py:156: FutureWarning: `base_estimator` was renamed to `estimator` in version 1.2 and will be removed in 1.4.\n",
      "  warnings.warn(\n"
     ]
    },
    {
     "name": "stdout",
     "output_type": "stream",
     "text": [
      "R^2 para el modelo ensamblado corregido con residuos de boosting: 0.6016051046169959\n",
      "RMSE del modelo ensamblado corregido con residuos de boosting: -60061.471066898455\n"
     ]
    }
   ],
   "source": [
    "from sklearn.model_selection import cross_val_score\n",
    "\n",
    "y_for_train = y_test[:602]\n",
    "y_for_test = y_test[602:]\n",
    "x_for_train = X_test[:602]\n",
    "x_for_test = X_test[602:]\n",
    "\n",
    "residuals = y_for_train - all_data_predictions[:602]\n",
    "\n",
    "residual_boosting_model = AdaBoostRegressor(base_estimator=DecisionTreeRegressor(max_depth=10, criterion='absolute_error'), n_estimators=200, random_state=42)\n",
    "residual_boosting_model.fit(x_for_train, residuals)\n",
    "\n",
    "residual_pred_ada = residual_boosting_model.predict(x_for_test)\n",
    "final_predictions = all_data_predictions[602:] + residual_pred_ada\n",
    "\n",
    "r2 = cross_val_score(ensamble, scaled_data, target, cv=5, scoring='r2').mean()\n",
    "rmse = cross_val_score(ensamble, scaled_data, target, cv=5, scoring='neg_root_mean_squared_error').mean()\n",
    "\n",
    "print(f\"R^2 para el modelo ensamblado corregido con residuos de boosting: {r2}\")\n",
    "print(f\"RMSE del modelo ensamblado corregido con residuos de boosting: {rmse}\")"
   ]
  },
  {
   "cell_type": "code",
   "execution_count": 48,
   "metadata": {},
   "outputs": [
    {
     "name": "stdout",
     "output_type": "stream",
     "text": [
      "R^2 para el modelo ensamblado corregido con residuos de random forest: 0.73030965879788\n",
      "RMSE del modelo ensamblado corregido con residuos de random forest: 49826.070021882064\n"
     ]
    }
   ],
   "source": [
    "residual_forest_model = RandomForestRegressor(n_estimators=200, max_depth=10, criterion='absolute_error', random_state=42)\n",
    "residual_forest_model.fit(x_for_train, residuals)\n",
    "\n",
    "residual_pred_forest = residual_forest_model.predict(x_for_test)\n",
    "final_predictions = all_data_predictions[602:] + residual_pred_forest\n",
    "\n",
    "r2 = r2_score(y_for_test, final_predictions)\n",
    "rmse = np.sqrt(mean_squared_error(y_for_test, final_predictions))\n",
    "\n",
    "print(f\"R^2 para el modelo ensamblado corregido con residuos de random forest: {r2}\")\n",
    "print(f\"RMSE del modelo ensamblado corregido con residuos de random forest: {rmse}\")"
   ]
  },
  {
   "cell_type": "code",
   "execution_count": 49,
   "metadata": {},
   "outputs": [
    {
     "name": "stdout",
     "output_type": "stream",
     "text": [
      "R^2 para el modelo ensamblado corregido con residuos de knn: 0.7088792922578795\n",
      "RMSE del modelo ensamblado corregido con residuos de knn: 51767.892722487995\n"
     ]
    }
   ],
   "source": [
    "from sklearn.neighbors import KNeighborsRegressor\n",
    "\n",
    "residual_knn_model = KNeighborsRegressor(n_neighbors=10, weights='distance')\n",
    "residual_knn_model.fit(x_for_train, residuals)\n",
    "\n",
    "residual_pred_knn = residual_knn_model.predict(x_for_test)\n",
    "final_predictions = all_data_predictions[602:] + residual_pred_knn\n",
    "\n",
    "r2 = r2_score(y_for_test, final_predictions)\n",
    "rmse = np.sqrt(mean_squared_error(y_for_test, final_predictions))\n",
    "\n",
    "print(f\"R^2 para el modelo ensamblado corregido con residuos de knn: {r2}\")\n",
    "print(f\"RMSE del modelo ensamblado corregido con residuos de knn: {rmse}\")"
   ]
  },
  {
   "cell_type": "markdown",
   "metadata": {},
   "source": [
    "Predicciones"
   ]
  },
  {
   "cell_type": "code",
   "execution_count": 17,
   "metadata": {},
   "outputs": [],
   "source": [
    "# Choose random sample of 100 data points\n",
    "random_sample = np.random.choice(data.index, size=100, replace=False)"
   ]
  },
  {
   "cell_type": "code",
   "execution_count": 18,
   "metadata": {},
   "outputs": [],
   "source": [
    "# Predecir el precio de 100 casas con fecha de actualizacion 2023-01-01\n",
    "samples = data.iloc[random_sample].copy()\n",
    "samples.drop(columns=[\"clusterKM\"], inplace=True)\n",
    "\n",
    "samples[\"fechaReal\"] = samples.apply(lambda x: f\"{x['ano']}-{x['mes']}-{x['dia']}\", axis=1)"
   ]
  },
  {
   "cell_type": "markdown",
   "metadata": {},
   "source": [
    "Prediccion 1/12"
   ]
  },
  {
   "cell_type": "code",
   "execution_count": 19,
   "metadata": {},
   "outputs": [],
   "source": [
    "features = ['terrenoEdificado', 'coordX', 'coordY', 'barrioID', 'ano', 'mes', 'dia']\n",
    "data_for_clustering = samples[features]\n",
    "data_for_clustering.loc[:, \"mes\"] = 12\n",
    "data_for_clustering.loc[:, \"dia\"] = 1\n",
    "scaled_data = scaler_kmeans.fit_transform(data_for_clustering)\n",
    "\n",
    "samples['clusterKM'] = kmeans.predict(scaled_data)\n",
    "\n",
    "features = ['terrenoEdificado', 'comisariaCercana', 'transporteCercano', \n",
    "                'saludCercana', 'coordX', 'coordY', 'clusterKM', 'barrioID', \n",
    "                'ano', 'mes', 'dia']\n",
    "\n",
    "samples_features = samples[features]\n",
    "samples_features.loc[:, \"mes\"] = 12\n",
    "samples_features.loc[:, \"dia\"] = 1\n",
    "\n",
    "scaled_data = scaler_ensamble.fit_transform(samples_features)\n",
    "\n",
    "predictions = ensamble.predict(scaled_data)\n",
    "residuals = residual_boosting_model.predict(samples_features)\n",
    "\n",
    "final_predictions = predictions + residuals\n",
    "\n",
    "samples.loc[:, \"prediccion_1-12\"] = predictions\n",
    "samples.loc[:, \"prediccion_corregida_1-12\"] = final_predictions"
   ]
  },
  {
   "cell_type": "markdown",
   "metadata": {},
   "source": [
    "Prediccion 15/12"
   ]
  },
  {
   "cell_type": "code",
   "execution_count": 20,
   "metadata": {},
   "outputs": [],
   "source": [
    "features = ['terrenoEdificado', 'coordX', 'coordY', 'barrioID', 'ano', 'mes', 'dia']\n",
    "data_for_clustering = samples[features]\n",
    "data_for_clustering.loc[:, \"mes\"] = 12\n",
    "data_for_clustering.loc[:, \"dia\"] = 15\n",
    "scaled_data = scaler_kmeans.fit_transform(data_for_clustering)\n",
    "\n",
    "samples['clusterKM'] = kmeans.predict(scaled_data)\n",
    "\n",
    "features = ['terrenoEdificado', 'comisariaCercana', 'transporteCercano', \n",
    "                'saludCercana', 'coordX', 'coordY', 'clusterKM', 'barrioID', \n",
    "                'ano', 'mes', 'dia']\n",
    "\n",
    "samples_features = samples[features]\n",
    "samples_features.loc[:, \"mes\"] = 12\n",
    "samples_features.loc[:, \"dia\"] = 15\n",
    "\n",
    "scaled_data = scaler_ensamble.fit_transform(samples_features)\n",
    "\n",
    "predictions = ensamble.predict(scaled_data)\n",
    "residuals = residual_boosting_model.predict(samples_features)\n",
    "\n",
    "final_predictions = predictions + residuals\n",
    "\n",
    "samples.loc[:, \"prediccion_15-12\"] = predictions\n",
    "samples.loc[:, \"prediccion_corregida_15-12\"] = final_predictions"
   ]
  },
  {
   "cell_type": "code",
   "execution_count": 21,
   "metadata": {},
   "outputs": [
    {
     "data": {
      "text/plain": [
       "Index(['precioUSD', 'terrenoTotal', 'terrenoEdificado', 'barrio', 'coordX',\n",
       "       'coordY', 'vendedor', 'comisariaCercana', 'transporteCercano',\n",
       "       'saludCercana', 'distanciaCentro', 'barrioID', 'ano', 'mes', 'dia',\n",
       "       'fechaReal', 'clusterKM', 'prediccion_1-12',\n",
       "       'prediccion_corregida_1-12', 'prediccion_15-12',\n",
       "       'prediccion_corregida_15-12'],\n",
       "      dtype='object')"
      ]
     },
     "execution_count": 21,
     "metadata": {},
     "output_type": "execute_result"
    }
   ],
   "source": [
    "samples.columns"
   ]
  },
  {
   "cell_type": "code",
   "execution_count": 22,
   "metadata": {},
   "outputs": [],
   "source": [
    "samples.drop(columns=[\"clusterKM\", 'terrenoTotal', 'ano', 'mes', 'dia'], inplace=True)"
   ]
  },
  {
   "cell_type": "code",
   "execution_count": 28,
   "metadata": {},
   "outputs": [
    {
     "data": {
      "image/png": "[encoded data removed]",
      "text/plain": [
       "<Figure size 1600x600 with 2 Axes>"
      ]
     },
     "metadata": {},
     "output_type": "display_data"
    },
    {
     "name": "stdout",
     "output_type": "stream",
     "text": [
      "R2 y RMSE de cada prediccion\n",
      "Prediccion 1-12\n",
      "R2: 0.7909753598147066\n",
      "RMSE: 42114.4898158756\n",
      "Prediccion corregida 1-12\n",
      "R2: 0.7076233385230177\n",
      "RMSE: 49808.57914058361\n"
     ]
    }
   ],
   "source": [
    "# Plot residuals\n",
    "fig, ax = plt.subplots(1, 2, figsize=(16, 6))\n",
    "sns.scatterplot(y=samples[\"precioUSD\"], x=samples[\"prediccion_1-12\"], ax=ax[0])\n",
    "sns.scatterplot(y=samples[\"precioUSD\"], x=samples[\"prediccion_corregida_1-12\"], ax=ax[1])\n",
    "ax[0].set_title(\"Residuos del modelo ensamblado\")\n",
    "ax[1].set_title(\"Residuos del modelo ensamblado corregido con boosting\")\n",
    "ax[0].set_xlabel(\"Residuos\")\n",
    "ax[1].set_xlabel(\"Residuos\")\n",
    "ax[0].set_ylabel(\"Precio\")\n",
    "ax[1].set_ylabel(\"Precio\")\n",
    "plt.show()\n",
    "\n",
    "# print r2 and rmse de cada prediccion\n",
    "print(\"R2 y RMSE de cada prediccion\")\n",
    "print(\"Prediccion 1-12\")\n",
    "print(f\"R2: {r2_score(samples['precioUSD'], samples['prediccion_1-12'])}\")\n",
    "print(f\"RMSE: {np.sqrt(mean_squared_error(samples['precioUSD'], samples['prediccion_1-12']))}\")\n",
    "\n",
    "print(\"Prediccion corregida 1-12\")\n",
    "print(f\"R2: {r2_score(samples['precioUSD'], samples['prediccion_corregida_1-12'])}\")\n",
    "print(f\"RMSE: {np.sqrt(mean_squared_error(samples['precioUSD'], samples['prediccion_corregida_1-12']))}\")\n"
   ]
  },
  {
   "cell_type": "code",
   "execution_count": 24,
   "metadata": {},
   "outputs": [
    {
     "name": "stdout",
     "output_type": "stream",
     "text": [
      "R2 del modelo lineal: 0.8005267634920736\n",
      "RMSE del modelo lineal: 41141.026057646115\n"
     ]
    }
   ],
   "source": [
    "# linear regression correction\n",
    "from sklearn.linear_model import LinearRegression\n",
    "\n",
    "lr = LinearRegression()\n",
    "lr.fit(samples[[\"prediccion_1-12\"]], samples[\"precioUSD\"])\n",
    "lr_pred = lr.predict(samples[[\"prediccion_1-12\"]])\n",
    "lr_r2 = r2_score(samples[\"precioUSD\"], lr_pred)\n",
    "lr_rmse = np.sqrt(mean_squared_error(samples[\"precioUSD\"], lr_pred))\n",
    "\n",
    "print(f\"R2 del modelo lineal: {lr_r2}\")\n",
    "print(f\"RMSE del modelo lineal: {lr_rmse}\")\n",
    "\n",
    "samples.loc[:, \"prediccion_corregida_lineal_1-12\"] = lr_pred"
   ]
  },
  {
   "cell_type": "code",
   "execution_count": 25,
   "metadata": {},
   "outputs": [
    {
     "name": "stdout",
     "output_type": "stream",
     "text": [
      "R2 del modelo lineal: 0.8005267634920736\n",
      "RMSE del modelo lineal: 41141.026057646115\n"
     ]
    }
   ],
   "source": [
    "# linear regression correction\n",
    "from sklearn.linear_model import LinearRegression\n",
    "\n",
    "lr = LinearRegression()\n",
    "lr.fit(samples[[\"prediccion_15-12\"]], samples[\"precioUSD\"])\n",
    "lr_pred = lr.predict(samples[[\"prediccion_15-12\"]])\n",
    "lr_r2 = r2_score(samples[\"precioUSD\"], lr_pred)\n",
    "lr_rmse = np.sqrt(mean_squared_error(samples[\"precioUSD\"], lr_pred))\n",
    "\n",
    "print(f\"R2 del modelo lineal: {lr_r2}\")\n",
    "print(f\"RMSE del modelo lineal: {lr_rmse}\")\n",
    "\n",
    "samples.loc[:, \"prediccion_corregida_lineal_15-12\"] = lr_pred\n"
   ]
  }
 ],
 "metadata": {
  "kernelspec": {
   "display_name": "Python 3",
   "language": "python",
   "name": "python3"
  },
  "language_info": {
   "codemirror_mode": {
    "name": "ipython",
    "version": 3
   },
   "file_extension": ".py",
   "mimetype": "text/x-python",
   "name": "python",
   "nbconvert_exporter": "python",
   "pygments_lexer": "ipython3",
   "version": "3.10.4"
  }
 },
 "nbformat": 4,
 "nbformat_minor": 2
}
