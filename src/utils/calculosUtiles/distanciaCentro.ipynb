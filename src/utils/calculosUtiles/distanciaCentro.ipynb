{
 "cells": [
  {
   "cell_type": "code",
   "execution_count": null,
   "metadata": {},
   "outputs": [],
   "source": [
    "from math import radians, sin, cos, sqrt, atan2\n",
    "\n",
    "def calcular_distancia(coord1, coord2):\n",
    "    # Radio de la Tierra en kilómetros\n",
    "    radio_tierra = 6371.0\n",
    "\n",
    "    # Convertir las coordenadas de grados a radianes\n",
    "    latitud1, longitud1 = radians(coord1[0]), radians(coord1[1])\n",
    "    latitud2, longitud2 = radians(coord2[0]), radians(coord2[1])\n",
    "\n",
    "    # Diferencia de latitud y longitud\n",
    "    dlat = latitud2 - latitud1\n",
    "    dlon = longitud2 - longitud1\n",
    "\n",
    "    # Fórmula de la distancia haversine\n",
    "    a = sin(dlat / 2)**2 + cos(latitud1) * cos(latitud2) * sin(dlon / 2)**2\n",
    "    c = 2 * atan2(sqrt(a), sqrt(1 - a))\n",
    "\n",
    "    # Distancia en kilómetros\n",
    "    distancia = radio_tierra * c\n",
    "\n",
    "    return distancia\n",
    "\n",
    "# Ejemplo de uso\n",
    "centroCBA = (-31.4201, -64.1888)\n",
    "\n",
    "# Suponiendo que d2 es tu DataFrame y tiene columnas \"coordY\" y \"coordX\"\n",
    "data[\"distanciaCentro\"] = data.apply(lambda x: calcular_distancia(centroCBA, (x[\"coordX\"], x[\"coordY\"])), axis=1)\n",
    "# Eliminar cuantiles extremos\n",
    "data = data.loc[(data[\"distanciaCentro\"] < data[\"distanciaCentro\"].quantile(0.99)) & (data[\"distanciaCentro\"] > data[\"distanciaCentro\"].quantile(0.01))]\n",
    "data.loc[:, \"distanciaCentroNormalized\"] = (data[\"distanciaCentro\"] - data[\"distanciaCentro\"].mean())/data[\"distanciaCentro\"].std()"
   ]
  }
 ],
 "metadata": {
  "language_info": {
   "name": "python"
  }
 },
 "nbformat": 4,
 "nbformat_minor": 2
}
